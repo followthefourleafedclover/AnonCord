{
  "cells": [
    {
      "cell_type": "markdown",
      "metadata": {
        "id": "view-in-github",
        "colab_type": "text"
      },
      "source": [
        "<a href=\"https://colab.research.google.com/github/followthefourleafedclover/AnonDiscord-/blob/main/Anon.ipynb\" target=\"_parent\"><img src=\"https://colab.research.google.com/assets/colab-badge.svg\" alt=\"Open In Colab\"/></a>"
      ]
    },
    {
      "cell_type": "code",
      "execution_count": 1,
      "metadata": {
        "colab": {
          "base_uri": "https://localhost:8080/"
        },
        "id": "t5nveCMszyl7",
        "outputId": "a12639b6-df81-441b-d994-184ef2f30672"
      },
      "outputs": [
        {
          "output_type": "stream",
          "name": "stdout",
          "text": [
            "Collecting discord.py\n",
            "  Downloading discord.py-2.3.2-py3-none-any.whl (1.1 MB)\n",
            "\u001b[2K     \u001b[90m━━━━━━━━━━━━━━━━━━━━━━━━━━━━━━━━━━━━━━━━\u001b[0m \u001b[32m1.1/1.1 MB\u001b[0m \u001b[31m8.5 MB/s\u001b[0m eta \u001b[36m0:00:00\u001b[0m\n",
            "\u001b[?25hRequirement already satisfied: aiohttp<4,>=3.7.4 in /usr/local/lib/python3.10/dist-packages (from discord.py) (3.9.3)\n",
            "Requirement already satisfied: aiosignal>=1.1.2 in /usr/local/lib/python3.10/dist-packages (from aiohttp<4,>=3.7.4->discord.py) (1.3.1)\n",
            "Requirement already satisfied: attrs>=17.3.0 in /usr/local/lib/python3.10/dist-packages (from aiohttp<4,>=3.7.4->discord.py) (23.2.0)\n",
            "Requirement already satisfied: frozenlist>=1.1.1 in /usr/local/lib/python3.10/dist-packages (from aiohttp<4,>=3.7.4->discord.py) (1.4.1)\n",
            "Requirement already satisfied: multidict<7.0,>=4.5 in /usr/local/lib/python3.10/dist-packages (from aiohttp<4,>=3.7.4->discord.py) (6.0.5)\n",
            "Requirement already satisfied: yarl<2.0,>=1.0 in /usr/local/lib/python3.10/dist-packages (from aiohttp<4,>=3.7.4->discord.py) (1.9.4)\n",
            "Requirement already satisfied: async-timeout<5.0,>=4.0 in /usr/local/lib/python3.10/dist-packages (from aiohttp<4,>=3.7.4->discord.py) (4.0.3)\n",
            "Requirement already satisfied: idna>=2.0 in /usr/local/lib/python3.10/dist-packages (from yarl<2.0,>=1.0->aiohttp<4,>=3.7.4->discord.py) (3.6)\n",
            "Installing collected packages: discord.py\n",
            "Successfully installed discord.py-2.3.2\n"
          ]
        }
      ],
      "source": [
        "pip install discord.py"
      ]
    },
    {
      "cell_type": "code",
      "execution_count": 2,
      "metadata": {
        "colab": {
          "base_uri": "https://localhost:8080/"
        },
        "id": "Gu11oiFa2hTf",
        "outputId": "effd18a1-4100-4fdc-9a1b-4c19045d4658"
      },
      "outputs": [
        {
          "output_type": "stream",
          "name": "stdout",
          "text": [
            "Collecting PyNaCl\n",
            "  Downloading PyNaCl-1.5.0-cp36-abi3-manylinux_2_17_x86_64.manylinux2014_x86_64.manylinux_2_24_x86_64.whl (856 kB)\n",
            "\u001b[2K     \u001b[90m━━━━━━━━━━━━━━━━━━━━━━━━━━━━━━━━━━━━━━━━\u001b[0m \u001b[32m856.7/856.7 kB\u001b[0m \u001b[31m9.8 MB/s\u001b[0m eta \u001b[36m0:00:00\u001b[0m\n",
            "\u001b[?25hRequirement already satisfied: cffi>=1.4.1 in /usr/local/lib/python3.10/dist-packages (from PyNaCl) (1.16.0)\n",
            "Requirement already satisfied: pycparser in /usr/local/lib/python3.10/dist-packages (from cffi>=1.4.1->PyNaCl) (2.22)\n",
            "Installing collected packages: PyNaCl\n",
            "Successfully installed PyNaCl-1.5.0\n"
          ]
        }
      ],
      "source": [
        "pip install PyNaCl"
      ]
    },
    {
      "cell_type": "code",
      "execution_count": 3,
      "metadata": {
        "id": "CGiq902k0Ls7"
      },
      "outputs": [],
      "source": [
        "import discord\n",
        "from discord.ext import commands\n",
        "import nest_asyncio\n",
        "nest_asyncio.apply()\n",
        "import pandas as pd\n",
        "import time\n",
        "import asyncio"
      ]
    },
    {
      "cell_type": "code",
      "source": [
        "class Server:\n",
        "  def __init__(self):\n",
        "    self.members = []\n",
        "    self.ids = []\n",
        "    self.nicks = []\n",
        "\n",
        "  def take_snapshot(self, client):\n",
        "    self.members = []\n",
        "    self.ids = []\n",
        "    for index, member in enumerate(client.guilds[1].members):\n",
        "      U = User(member, index)\n",
        "      self.members.append(U.info()[0])\n",
        "      self.ids.append(U.info()[1])\n",
        "      self.nicks.append(U.info()[2])\n",
        "\n",
        "  def add(self, member_id):\n",
        "    print(member_id[0])\n",
        "    if not member_id[0] in self.members:\n",
        "      self.members.append(member_id[0])\n",
        "      self.ids.append(member_id[1])\n",
        "      self.nicks.append(member_id[2])\n",
        "\n",
        "  def remove(self, member_id):\n",
        "    self.members.remove(member_id[0])\n",
        "    self.ids.remove(member_id[1])\n",
        "    self.nicks.remove(member_id[2])"
      ],
      "metadata": {
        "id": "4rBpnEgtwYuQ"
      },
      "execution_count": 4,
      "outputs": []
    },
    {
      "cell_type": "code",
      "source": [
        "import uuid\n",
        "class User:\n",
        "  def __init__(self, member, nick):\n",
        "    self.member = member # object\n",
        "    self.ID = str(uuid.uuid4())\n",
        "    self.nick = nick\n",
        "\n",
        "  def info(self):\n",
        "    return (self.member, self.ID, self.nick)"
      ],
      "metadata": {
        "id": "d4VTxad5RBOE"
      },
      "execution_count": 5,
      "outputs": []
    },
    {
      "cell_type": "code",
      "source": [],
      "metadata": {
        "id": "wIX300ODxoOR"
      },
      "execution_count": null,
      "outputs": []
    },
    {
      "cell_type": "code",
      "execution_count": 6,
      "metadata": {
        "colab": {
          "base_uri": "https://localhost:8080/"
        },
        "id": "VCU2mOnH0_dM",
        "outputId": "4c889da3-bf8f-4be8-dcd4-61c82b94971f"
      },
      "outputs": [
        {
          "output_type": "stream",
          "name": "stderr",
          "text": [
            "\u001b[30;1m2024-04-13 15:31:41\u001b[0m \u001b[34;1mINFO    \u001b[0m \u001b[35mdiscord.client\u001b[0m logging in using static token\n",
            "INFO:discord.client:logging in using static token\n",
            "\u001b[30;1m2024-04-13 15:31:41\u001b[0m \u001b[34;1mINFO    \u001b[0m \u001b[35mdiscord.gateway\u001b[0m Shard ID None has connected to Gateway (Session ID: 892a6c17d03f46ac257e47cb2b76080d).\n",
            "INFO:discord.gateway:Shard ID None has connected to Gateway (Session ID: 892a6c17d03f46ac257e47cb2b76080d).\n"
          ]
        },
        {
          "output_type": "stream",
          "name": "stdout",
          "text": [
            "ready\n"
          ]
        }
      ],
      "source": [
        "from ast import Delete\n",
        "from discord.utils import get\n",
        "import requests\n",
        "import typing\n",
        "\n",
        "server = Server()\n",
        "channels = []\n",
        "\n",
        "def run():\n",
        "  client = commands.Bot(command_prefix=\"/\", intents=discord.Intents.all())\n",
        "\n",
        "\n",
        "  @client.event\n",
        "  async def on_ready():\n",
        "    print(\"ready\")\n",
        "    server.take_snapshot(client)\n",
        "\n",
        "    guild = client.guilds[1]\n",
        "    admin_role = get(guild.roles, name='Admin')\n",
        "    for member in server.members:\n",
        "      overwrites = {\n",
        "        guild.default_role: discord.PermissionOverwrite(read_messages=False),\n",
        "        member: discord.PermissionOverwrite(read_messages=True),\n",
        "        admin_role: discord.PermissionOverwrite(read_messages=True)\n",
        "      }\n",
        "      memID = server.ids[server.members.index(member)]\n",
        "      channel = await guild.create_text_channel(f'{memID}', news=True, slowmode_delay=1800, overwrites=overwrites)\n",
        "      await channel.send(content='You are limited to 10 Webhooks or Messages, please make thoughful posts', delete_after=15.0)\n",
        "\n",
        "      channels.append(channel.id)\n",
        "\n",
        "  @client.event\n",
        "  async def on_member_join(member):\n",
        "    U = User(member, server.nicks[-1] + 1)\n",
        "    server.add((U.member, U.ID, U.nick))\n",
        "    await member.edit(nick=server.nicks[server.members.index(member)])\n",
        "\n",
        "\n",
        "\n",
        "\n",
        "  @client.command()\n",
        "  async def delete(ctx):\n",
        "    for c in channels:\n",
        "      d = await client.fetch_channel(c)\n",
        "      await d.delete()\n",
        "\n",
        "\n",
        "  @client.command(pass_context=True)\n",
        "  async def chnick(ctx, member: discord.Member, nick):\n",
        "    await member.edit(nick=nick)\n",
        "\n",
        "  @client.command()\n",
        "  async def answer(ctx):\n",
        "    await ctx.send(\"hello\")\n",
        "\n",
        "  client.run()\n",
        "\n",
        "\n",
        "run()"
      ]
    },
    {
      "cell_type": "code",
      "source": [
        "server.nicks\n",
        "server.members"
      ],
      "metadata": {
        "colab": {
          "base_uri": "https://localhost:8080/"
        },
        "id": "AevfpmsyFtFN",
        "outputId": "059b7475-59cd-497a-942e-b7ae8214d0cf"
      },
      "execution_count": 68,
      "outputs": [
        {
          "output_type": "execute_result",
          "data": {
            "text/plain": [
              "[<Member id=755443340815761510 name='kay.nan.in.underworld' global_name='𝔸𝕓𝕖𝕝 ℂ𝕒𝕚𝕟' bot=False nick=None guild=<Guild id=1221140820980404406 name='test' shard_id=0 chunked=True member_count=4>>,\n",
              " <Member id=959906996457467954 name='drewcymatics' global_name='Yara' bot=False nick=None guild=<Guild id=1221140820980404406 name='test' shard_id=0 chunked=True member_count=4>>,\n",
              " <Member id=1221140342976548986 name='ff' global_name=None bot=True nick=None guild=<Guild id=1221140820980404406 name='test' shard_id=0 chunked=True member_count=4>>,\n",
              " <Member id=1228387817004994722 name='Anon' global_name=None bot=True nick=None guild=<Guild id=1221140820980404406 name='test' shard_id=0 chunked=True member_count=4>>]"
            ]
          },
          "metadata": {},
          "execution_count": 68
        }
      ]
    },
    {
      "cell_type": "code",
      "source": [
        "server.ids"
      ],
      "metadata": {
        "colab": {
          "base_uri": "https://localhost:8080/"
        },
        "id": "pO26LPPywc1e",
        "outputId": "633809aa-ee7d-47ed-98b1-56c0bbd1702b"
      },
      "execution_count": 49,
      "outputs": [
        {
          "output_type": "execute_result",
          "data": {
            "text/plain": [
              "['a5350bc4-3d01-438f-a288-fb94ca1c4cc2',\n",
              " 'a101fe49-a474-4be9-b8d2-61415c3c342a',\n",
              " 'd859407b-025c-494c-8a27-c1a621723537',\n",
              " '3af6c1b0-9bb6-454f-971e-705cfdebdc6e']"
            ]
          },
          "metadata": {},
          "execution_count": 49
        }
      ]
    }
  ],
  "metadata": {
    "colab": {
      "provenance": [],
      "authorship_tag": "ABX9TyNzgaD8YGdngp/rRjyaktjs",
      "include_colab_link": true
    },
    "kernelspec": {
      "display_name": "Python 3",
      "name": "python3"
    },
    "language_info": {
      "name": "python"
    }
  },
  "nbformat": 4,
  "nbformat_minor": 0
}