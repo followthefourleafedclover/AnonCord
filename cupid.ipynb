{
  "cells": [
    {
      "cell_type": "markdown",
      "metadata": {
        "id": "view-in-github",
        "colab_type": "text"
      },
      "source": [
        "<a href=\"https://colab.research.google.com/github/followthefourleafedclover/AnonDiscord-/blob/main/cupid.ipynb\" target=\"_parent\"><img src=\"https://colab.research.google.com/assets/colab-badge.svg\" alt=\"Open In Colab\"/></a>"
      ]
    },
    {
      "cell_type": "code",
      "execution_count": null,
      "metadata": {
        "colab": {
          "base_uri": "https://localhost:8080/"
        },
        "id": "t5nveCMszyl7",
        "outputId": "7d9bda2f-ce20-44c0-9a63-b41c3ad671fd"
      },
      "outputs": [
        {
          "name": "stdout",
          "output_type": "stream",
          "text": [
            "Collecting discord.py\n",
            "  Downloading discord.py-2.3.2-py3-none-any.whl (1.1 MB)\n",
            "\u001b[2K     \u001b[90m━━━━━━━━━━━━━━━━━━━━━━━━━━━━━━━━━━━━━━━━\u001b[0m \u001b[32m1.1/1.1 MB\u001b[0m \u001b[31m8.3 MB/s\u001b[0m eta \u001b[36m0:00:00\u001b[0m\n",
            "\u001b[?25hRequirement already satisfied: aiohttp<4,>=3.7.4 in /usr/local/lib/python3.10/dist-packages (from discord.py) (3.9.3)\n",
            "Requirement already satisfied: aiosignal>=1.1.2 in /usr/local/lib/python3.10/dist-packages (from aiohttp<4,>=3.7.4->discord.py) (1.3.1)\n",
            "Requirement already satisfied: attrs>=17.3.0 in /usr/local/lib/python3.10/dist-packages (from aiohttp<4,>=3.7.4->discord.py) (23.2.0)\n",
            "Requirement already satisfied: frozenlist>=1.1.1 in /usr/local/lib/python3.10/dist-packages (from aiohttp<4,>=3.7.4->discord.py) (1.4.1)\n",
            "Requirement already satisfied: multidict<7.0,>=4.5 in /usr/local/lib/python3.10/dist-packages (from aiohttp<4,>=3.7.4->discord.py) (6.0.5)\n",
            "Requirement already satisfied: yarl<2.0,>=1.0 in /usr/local/lib/python3.10/dist-packages (from aiohttp<4,>=3.7.4->discord.py) (1.9.4)\n",
            "Requirement already satisfied: async-timeout<5.0,>=4.0 in /usr/local/lib/python3.10/dist-packages (from aiohttp<4,>=3.7.4->discord.py) (4.0.3)\n",
            "Requirement already satisfied: idna>=2.0 in /usr/local/lib/python3.10/dist-packages (from yarl<2.0,>=1.0->aiohttp<4,>=3.7.4->discord.py) (3.6)\n",
            "Installing collected packages: discord.py\n",
            "Successfully installed discord.py-2.3.2\n"
          ]
        }
      ],
      "source": [
        "pip install discord.py"
      ]
    },
    {
      "cell_type": "code",
      "execution_count": null,
      "metadata": {
        "colab": {
          "base_uri": "https://localhost:8080/"
        },
        "id": "Gu11oiFa2hTf",
        "outputId": "17ef8e02-268d-4a96-d230-f67bc6ce31bf"
      },
      "outputs": [
        {
          "name": "stdout",
          "output_type": "stream",
          "text": [
            "Collecting PyNaCl\n",
            "  Downloading PyNaCl-1.5.0-cp36-abi3-manylinux_2_17_x86_64.manylinux2014_x86_64.manylinux_2_24_x86_64.whl (856 kB)\n",
            "\u001b[2K     \u001b[90m━━━━━━━━━━━━━━━━━━━━━━━━━━━━━━━━━━━━━━━━\u001b[0m \u001b[32m856.7/856.7 kB\u001b[0m \u001b[31m9.2 MB/s\u001b[0m eta \u001b[36m0:00:00\u001b[0m\n",
            "\u001b[?25hRequirement already satisfied: cffi>=1.4.1 in /usr/local/lib/python3.10/dist-packages (from PyNaCl) (1.16.0)\n",
            "Requirement already satisfied: pycparser in /usr/local/lib/python3.10/dist-packages (from cffi>=1.4.1->PyNaCl) (2.21)\n",
            "Installing collected packages: PyNaCl\n",
            "Successfully installed PyNaCl-1.5.0\n"
          ]
        }
      ],
      "source": [
        "pip install PyNaCl"
      ]
    },
    {
      "cell_type": "code",
      "execution_count": null,
      "metadata": {
        "id": "CGiq902k0Ls7"
      },
      "outputs": [],
      "source": [
        "import discord\n",
        "from discord.ext import commands\n",
        "import nest_asyncio\n",
        "nest_asyncio.apply()\n",
        "import pandas as pd\n",
        "import time\n",
        "import asyncio"
      ]
    },
    {
      "cell_type": "code",
      "execution_count": null,
      "metadata": {
        "id": "nAKRU5uR1aPX"
      },
      "outputs": [],
      "source": [
        "class MatchMakerCSV:\n",
        "  def __init__(self):\n",
        "    pass\n",
        "\n",
        "  def ImportCSV(self, path_name):\n",
        "    self.df  = pd.read_csv(path_name)\n",
        "\n",
        "    # Assume data is in catagories as cols and rows as responses\n",
        "\n",
        "    self.rows, self.cols = self.df.shape\n",
        "\n",
        "    self.cata = [x.lower() for x in self.df.columns]\n",
        "\n",
        "\n",
        "  def Minimum_Age(self, age, meathod):\n",
        "    age = int(age)\n",
        "    if meathod == 0:\n",
        "      return [(age / 2) + 7, 2*(age-7)]\n",
        "\n",
        "    if meathod == 1:\n",
        "      return [age - 2, age + 2]\n",
        "\n",
        "    return [0, age];\n",
        "\n",
        "\n",
        "\n",
        "  def Find_Clusters(self, person):\n",
        "\n",
        "    row_values = self.df.iloc[person]\n",
        "    age_index = self.cata.index('age')\n",
        "\n",
        "    #Age #1\n",
        "    self.age = row_values[self.df.columns[age_index]]\n",
        "\n",
        "    if self.age == 14:\n",
        "      min_age  = self.Minimum_Age(self.age, 1)[0]\n",
        "    else:\n",
        "      min_age  = self.Minimum_Age(self.age, 2)[0]\n",
        "\n",
        "    self.cluster = self.df[(self.df[self.cata[age_index]] >= min_age)]\n",
        "    self.cluster = self.cluster.drop(person)\n",
        "\n",
        "      # likes and dislikes\n",
        "    self.cluster_array = []\n",
        "    for x in range(self.cluster.shape[0]):\n",
        "      i = []\n",
        "      for y in range(len(self.cata)):\n",
        "        i.append(self.cluster.iloc[x][y])\n",
        "      self.cluster_array.append(i)\n",
        "\n",
        "    likes_index = self.cata.index('likes')\n",
        "    dislikes_index = self.cata.index('dislikes')\n",
        "\n",
        "    self.likes = []\n",
        "    self.dislikes  = []\n",
        "\n",
        "    self.person_likes = row_values[self.cata.index('likes')].split(',')\n",
        "    self.person_dislikes = row_values[self.cata.index('dislikes')].split(',')\n",
        "\n",
        "    for item in self.cluster_array:\n",
        "      self.likes.append([x.strip() for x in item[likes_index].split(',')])\n",
        "      self.dislikes.append([x.strip() for x in item[dislikes_index].split(',')])\n",
        "\n",
        "      # intersection algorithim\n",
        "    self.l_scores  = []\n",
        "\n",
        "    a = set(self.person_likes)\n",
        "    for item in self.likes:\n",
        "      b = set(item)\n",
        "      self.l_scores.append(len(a.intersection(b)))\n",
        "\n",
        "    self.d_scores = []\n",
        "\n",
        "    c = set(self.person_dislikes)\n",
        "    for item in self.likes:\n",
        "      d = set(item)\n",
        "      self.d_scores.append(len(c.intersection(d)))\n",
        "\n",
        "\n",
        "    self.scores  = [x - y for x, y in zip(self.l_scores, self.d_scores)]\n",
        "\n",
        "    max_indexes  = []\n",
        "\n",
        "    self.max  = max(self.scores)\n",
        "\n",
        "    while self.max in self.scores:\n",
        "      max_indexes.append(self.scores.index(self.max))\n",
        "      self.scores.remove(self.max)\n",
        "\n",
        "    for person in max_indexes:\n",
        "      if self.max <= 0:\n",
        "        return \"You have no matches\"\n",
        "      else:\n",
        "        return f\"These are your best matches \\n{self.cluster.iloc[person]}\"\n",
        "    return \";)\"\n",
        "\n",
        "\n",
        "\n",
        "\n"
      ]
    },
    {
      "cell_type": "code",
      "execution_count": null,
      "metadata": {
        "id": "Yn4rFE1y5vr4"
      },
      "outputs": [],
      "source": [
        "class MatchMakerRoles:\n",
        "  def __init__(self):\n",
        "    pass\n",
        "\n",
        "\n",
        "\n",
        "  def Minimum_Age(self, age, meathod):\n",
        "    age = int(age)\n",
        "    if meathod == 0:\n",
        "      return [(age / 2) + 7, 2*(age-7)]\n",
        "\n",
        "    if meathod == 1:\n",
        "      return [age - 2, age + 2]\n",
        "\n",
        "    return [0, age];\n",
        "\n",
        "\n",
        "\n",
        "  def Find_Clusters(self, interaction, preferences):\n",
        "\n",
        "    self.personal_roles = []\n",
        "    for role in interaction.user.roles:\n",
        "      self.personal_roles.append(role.name)\n",
        "    self.personal_roles = self.personal_roles[1:]\n",
        "\n",
        "    self.members_list = []\n",
        "\n",
        "    for member in interaction.guild.members:\n",
        "      if member.id != interaction.user.id:\n",
        "        self.members_list.append(member)\n",
        "\n",
        "\n",
        "\n",
        "    # last part\n",
        "\n",
        "    self.roles = []\n",
        "    for index, member in enumerate(self.members_list):\n",
        "      place_holder = []\n",
        "      for role in self.members_list[index].roles:\n",
        "        place_holder.append(role.name)\n",
        "\n",
        "      place_holder = place_holder[1:]\n",
        "      self.roles.append(place_holder)\n",
        "\n",
        "\n",
        "    # gender filter\n",
        "\n",
        "    #cluster\n",
        "    self.members_roles = list(zip(self.members_list, self.roles))\n",
        "    self.del_indexes = []\n",
        "\n",
        "\n",
        "    if preferences[0] != 'any':\n",
        "      for index, item in enumerate(self.members_roles):\n",
        "          if not (preferences[0] in item[1]):\n",
        "            self.del_indexes.append(index)\n",
        "\n",
        "\n",
        "    for index in sorted(self.del_indexes, reverse=True):\n",
        "      del self.members_roles[index]\n",
        "\n",
        "    if len(self.members_roles) > 0:\n",
        "\n",
        "      self.like_scores = []\n",
        "\n",
        "      self.personal_roles_set = set(self.personal_roles)\n",
        "\n",
        "      for cache in self.members_roles:\n",
        "        t_set  = set(cache[1])\n",
        "        self.like_scores.append(len(self.personal_roles_set.intersection(t_set)))\n",
        "\n",
        "      self.max_indexes = []\n",
        "      self.max = max(self.like_scores)\n",
        "      self.like_scores_backup = self.like_scores.copy()\n",
        "\n",
        "      if not self.max <= 0:\n",
        "\n",
        "        for index, item in enumerate(self.like_scores):\n",
        "          if item == self.max:\n",
        "            self.max_indexes.append(index)\n",
        "\n",
        "        self.matches = []\n",
        "        self.match_per = []\n",
        "\n",
        "        self.match_members = []\n",
        "\n",
        "        for index in self.max_indexes:\n",
        "          self.matches.append(self.members_roles[index])\n",
        "\n",
        "\n",
        "        for index, item in enumerate(self.max_indexes):\n",
        "          self.match_per.append(round((self.max/len(self.matches[index][1]))*100, 2))\n",
        "          self.match_members.append(self.members_roles[item][0])\n",
        "\n",
        "        return self.match_members, self.match_per\n",
        "\n",
        "      return [], [0]\n",
        "    return [], [0]\n",
        "\n",
        "\n"
      ]
    },
    {
      "cell_type": "code",
      "execution_count": null,
      "metadata": {
        "id": "D2u2MTC80aDP"
      },
      "outputs": [],
      "source": [
        "m1 = MatchMakerCSV()\n",
        "m2 = MatchMakerRoles()\n"
      ]
    },
    {
      "cell_type": "code",
      "execution_count": null,
      "metadata": {
        "colab": {
          "base_uri": "https://localhost:8080/",
          "height": 292
        },
        "id": "VCU2mOnH0_dM",
        "outputId": "178ac4f6-8299-4169-cdd3-fcd9ed61e525"
      },
      "outputs": [
        {
          "output_type": "error",
          "ename": "NameError",
          "evalue": "name 'commands' is not defined",
          "traceback": [
            "\u001b[0;31m---------------------------------------------------------------------------\u001b[0m",
            "\u001b[0;31mNameError\u001b[0m                                 Traceback (most recent call last)",
            "\u001b[0;32m<ipython-input-1-2655e4d47ef7>\u001b[0m in \u001b[0;36m<cell line: 234>\u001b[0;34m()\u001b[0m\n\u001b[1;32m    232\u001b[0m \u001b[0;34m\u001b[0m\u001b[0m\n\u001b[1;32m    233\u001b[0m \u001b[0;34m\u001b[0m\u001b[0m\n\u001b[0;32m--> 234\u001b[0;31m \u001b[0mrun\u001b[0m\u001b[0;34m(\u001b[0m\u001b[0;34m)\u001b[0m\u001b[0;34m\u001b[0m\u001b[0;34m\u001b[0m\u001b[0m\n\u001b[0m",
            "\u001b[0;32m<ipython-input-1-2655e4d47ef7>\u001b[0m in \u001b[0;36mrun\u001b[0;34m()\u001b[0m\n\u001b[1;32m      5\u001b[0m \u001b[0;34m\u001b[0m\u001b[0m\n\u001b[1;32m      6\u001b[0m \u001b[0;32mdef\u001b[0m \u001b[0mrun\u001b[0m\u001b[0;34m(\u001b[0m\u001b[0;34m)\u001b[0m\u001b[0;34m:\u001b[0m\u001b[0;34m\u001b[0m\u001b[0;34m\u001b[0m\u001b[0m\n\u001b[0;32m----> 7\u001b[0;31m   \u001b[0mclient\u001b[0m \u001b[0;34m=\u001b[0m \u001b[0mcommands\u001b[0m\u001b[0;34m.\u001b[0m\u001b[0mBot\u001b[0m\u001b[0;34m(\u001b[0m\u001b[0mcommand_prefix\u001b[0m\u001b[0;34m=\u001b[0m\u001b[0;34m\"/\"\u001b[0m\u001b[0;34m,\u001b[0m \u001b[0mintents\u001b[0m\u001b[0;34m=\u001b[0m\u001b[0mdiscord\u001b[0m\u001b[0;34m.\u001b[0m\u001b[0mIntents\u001b[0m\u001b[0;34m.\u001b[0m\u001b[0mall\u001b[0m\u001b[0;34m(\u001b[0m\u001b[0;34m)\u001b[0m\u001b[0;34m)\u001b[0m\u001b[0;34m\u001b[0m\u001b[0;34m\u001b[0m\u001b[0m\n\u001b[0m\u001b[1;32m      8\u001b[0m \u001b[0;34m\u001b[0m\u001b[0m\n\u001b[1;32m      9\u001b[0m   \u001b[0;34m@\u001b[0m\u001b[0mclient\u001b[0m\u001b[0;34m.\u001b[0m\u001b[0mevent\u001b[0m\u001b[0;34m\u001b[0m\u001b[0;34m\u001b[0m\u001b[0m\n",
            "\u001b[0;31mNameError\u001b[0m: name 'commands' is not defined"
          ]
        }
      ],
      "source": [
        "from ast import Delete\n",
        "import requests\n",
        "import typing\n",
        "\n",
        "\n",
        "def run():\n",
        "  client = commands.Bot(command_prefix=\"/\", intents=discord.Intents.all())\n",
        "\n",
        "  @client.event\n",
        "  async def on_ready():\n",
        "    print(\"ready\")\n",
        "\n",
        "  class RoleEngine():\n",
        "    def __init__(self):\n",
        "      pass\n",
        "\n",
        "    async def start(self, ctx):\n",
        "\n",
        "      self.members = []\n",
        "\n",
        "      for member in ctx.guild.members:\n",
        "        self.members.append(member)\n",
        "\n",
        "      likes = []\n",
        "      dislikes = []\n",
        "\n",
        "      for i in range(len(self.members)):\n",
        "        placeholder1 = []\n",
        "        placeholder2 = []\n",
        "        for role in self.members[i].roles:\n",
        "          if 'l:' in role.name:\n",
        "            placeholder1.append(role.name)\n",
        "\n",
        "          if 'd:' in role.name:\n",
        "            placeholder2.append(role.name)\n",
        "        likes.append(placeholder1)\n",
        "        dislikes.append(placeholder2)\n",
        "\n",
        "\n",
        "      return list(zip(self.members, likes, dislikes))\n",
        "\n",
        "\n",
        "\n",
        "\n",
        "\n",
        "  class Angel(discord.ui.View):\n",
        "    def __init__(self):\n",
        "      super().__init__(timeout=None)\n",
        "\n",
        "\n",
        "\n",
        "    async def send(self, ctx):\n",
        "\n",
        "      self.r = RoleEngine()\n",
        "      self.attrs = await self.r.start(ctx)\n",
        "\n",
        "      self.members = []\n",
        "\n",
        "      for member in ctx.guild.members:\n",
        "        self.members.append(member)\n",
        "\n",
        "\n",
        "      self.index = 0\n",
        "\n",
        "      self.title = '𝐄𝐧𝐨𝐜𝐡𝐢𝐚𝐧 ଘ(੭ˊᵕˋ)੭* ੈ✩‧˚'\n",
        "\n",
        "      self.desc = '𝐒𝐰𝐢𝐩𝐞 𝐭𝐡𝐫𝐨𝐮𝐠𝐡 𝐮𝐬𝐞𝐫𝐬 𝐨𝐧 𝐭𝐡𝐞 𝐬𝐞𝐫𝐯𝐞𝐫, 𝐥𝐢𝐤𝐞 𝐨𝐫 𝐝𝐢𝐬𝐥𝐢𝐤𝐞 𝐭𝐡𝐞𝐦 𝐛𝐲 𝐮𝐬𝐢𝐧𝐠 𝐭𝐡𝐞 𝐛𝐮𝐭𝐭𝐨𝐧𝐬 𝐛𝐞𝐥𝐨𝐰.\\n𝐈𝐟 𝐭𝐡𝐞𝐲 𝐥𝐢𝐤𝐞 𝐲𝐨𝐮 𝐭𝐨𝐨, 𝐭𝐡𝐞𝐧 𝐰𝐞 𝐰𝐢𝐥𝐥 𝐧𝐨𝐭𝐢𝐟𝐲 𝐲𝐨𝐮 𝐨𝐟 𝐚 𝐦𝐚𝐭𝐜𝐡. 𝐆𝐨𝐨𝐝 𝐥𝐮𝐜𝐤!'\n",
        "\n",
        "      self.ll = [0 for x in range(len(self.attrs))]\n",
        "      self.dd = [0 for x in range(len(self.attrs))]\n",
        "\n",
        "      self.liked = [False for x in range(len(self.attrs))]\n",
        "      self.disliked = [False for x in range(len(self.attrs))]\n",
        "\n",
        "\n",
        "      embed = discord.Embed(title=self.title, description=self.desc, color=discord.Color.fuchsia())\n",
        "      #embed.add_field(name=' ', value='*✭˚･ﾟ✧*･ﾟ*✭˚･ﾟ✧*･ﾟ* *✭˚･ﾟ✧*･ﾟ*✭˚･ﾟ✧*･ﾟ* *✭˚･ﾟ✧*･ﾟ*✭˚･ﾟ✧*･ﾟ*')\n",
        "      embed.set_thumbnail(url=self.attrs[self.index][0].display_avatar.url)\n",
        "      embed.add_field(name=\"Name\", value=f'{self.attrs[self.index][0].global_name}')\n",
        "      likes = [x.split('l:')[-1] for x in self.attrs[self.index][1]]\n",
        "      likes = ', '.join(likes)\n",
        "      embed.add_field(name='𝐋𝐢𝐤𝐞𝐬', value=f'{likes}')\n",
        "      dislikes = [x.split('d:')[-1] for x in self.attrs[self.index][2]]\n",
        "      dislikes = ', '.join(dislikes)\n",
        "      embed.add_field(name='𝐃𝐢𝐬𝐥𝐢𝐤𝐞𝐬', value=f'{dislikes}')\n",
        "      embed.add_field(name='like count', value=f'{self.ll[self.index]}')\n",
        "      embed.add_field(name='dislike count', value=f'{self.dd[self.index]}')\n",
        "      self.message = await ctx.send(embed=embed, view=self)\n",
        "\n",
        "\n",
        "    async def update_attrs(self, mld):\n",
        "      self.attrs.append(mld)\n",
        "      self.ll.append(0)\n",
        "      self.dd.append(0)\n",
        "      self.liked.append(False)\n",
        "      self.disliked.append(False)\n",
        "\n",
        "\n",
        "\n",
        "    async def update(self):\n",
        "      embed = discord.Embed(title=self.title, description=self.desc, color=discord.Color.fuchsia())\n",
        "      embed.set_thumbnail(url=self.attrs[self.index][0].display_avatar.url)\n",
        "      embed.add_field(name=\"Name\", value=f'{self.attrs[self.index][0].global_name}')\n",
        "      likes = [x.split('l:')[-1] for x in self.attrs[self.index][1]]\n",
        "      likes = ', '.join(likes)\n",
        "      embed.add_field(name='𝐋𝐢𝐤𝐞𝐬', value=f'{likes}')\n",
        "      dislikes = [x.split('d:')[-1] for x in self.attrs[self.index][2]]\n",
        "      dislikes = ', '.join(dislikes)\n",
        "      embed.add_field(name='𝐃𝐢𝐬𝐥𝐢𝐤𝐞𝐬', value=f'{dislikes}')\n",
        "      embed.add_field(name='like count', value=f'{self.ll[self.index]}')\n",
        "      embed.add_field(name='dislike count', value=f'{self.dd[self.index]}')\n",
        "      await self.message.edit(embed=embed, view=self)\n",
        "\n",
        "\n",
        "    @discord.ui.button(label='←', style=discord.ButtonStyle.primary)\n",
        "    async def before(self, interaction:discord.Interaction,button:discord.ui.Button):\n",
        "      await interaction.response.defer()\n",
        "      self.index -= 1\n",
        "      if self.index < 0:\n",
        "        self.index = len(self.members)-1\n",
        "      await self.update()\n",
        "\n",
        "    @discord.ui.button(label='→', style=discord.ButtonStyle.primary)\n",
        "    async def next(self, interaction:discord.Interaction,button:discord.ui.Button):\n",
        "      await interaction.response.defer()\n",
        "      self.index += 1\n",
        "      self.index = self.index % len(self.members)\n",
        "      await self.update()\n",
        "\n",
        "    @discord.ui.button(label='♡', style=discord.ButtonStyle.success)\n",
        "    async def like(self, interaction:discord.Interaction,button:discord.ui.Button):\n",
        "      await interaction.response.defer()\n",
        "      if not self.liked[self.index]:\n",
        "        self.ll[self.index] += 1\n",
        "        self.liked[self.index] = True\n",
        "      await self.update()\n",
        "\n",
        "\n",
        "    @discord.ui.button(label='✖', style=discord.ButtonStyle.danger)\n",
        "    async def dislike(self, interaction:discord.Interaction,button:discord.ui.Button):\n",
        "      await interaction.response.defer()\n",
        "      if not self.disliked[self.index]:\n",
        "        self.dd[self.index] += 1\n",
        "        self.disliked[self.index] = True\n",
        "      await self.update()\n",
        "\n",
        "\n",
        "\n",
        "\n",
        "  @client.command()\n",
        "  async def menu(ctx):\n",
        "\n",
        "    view  = Angel()\n",
        "    await view.send(ctx)\n",
        "\n",
        "\n",
        "\n",
        "\n",
        "\n",
        "  @client.command()\n",
        "  async def answer(ctx):\n",
        "    await ctx.send(\"hello\")\n",
        "\n",
        "  @client.command()\n",
        "  async def animation(interaction, seconds:int):\n",
        "    '''\n",
        "    await asyncio.sleep(1)\n",
        "      msg = await interaction.edit_original_response(content='웃    ❤    유')\n",
        "      await asyncio.sleep(1)\n",
        "      msg = await interaction.edit_original_response(content='  웃  ❤  유  ')\n",
        "      await asyncio.sleep(1)\n",
        "      msg = await interaction.edit_original_response(content='    웃❤유    ')\n",
        "    '''\n",
        "    t_end = time.time() + seconds\n",
        "    while time.time() < t_end:\n",
        "      msg = await interaction.channel.send('웃    ❤    유')\n",
        "      await asyncio.sleep(0.5)\n",
        "      await msg.delete()\n",
        "      msg = await interaction.channel.send('  웃  ❤  유  ')\n",
        "      await asyncio.sleep(0.5)\n",
        "      await msg.delete()\n",
        "      msg = await interaction.channel.send('    웃❤유    ')\n",
        "      await asyncio.sleep(0.5)\n",
        "      await msg.delete()\n",
        "\n",
        "\n",
        "\n",
        "  @client.command()\n",
        "  async def sync(ctx):\n",
        "    print(\"sync command\")\n",
        "    await client.tree.sync()\n",
        "    await ctx.send('Command tree synced.')\n",
        "\n",
        "\n",
        "  @client.tree.command(name=\"mymatches\", description=\"find the people you match with\")\n",
        "  async def mymatches(interaction:discord.Interaction, gender:typing.Literal['male', 'female', 'any']):\n",
        "\n",
        "    preferences = [gender]\n",
        "    matches, per = m2.Find_Clusters(interaction, preferences)\n",
        "\n",
        "    embed = discord.Embed(title='Your Matches On the Server',\n",
        "                          description='Using our algorithm these are your results for an optimal match',\n",
        "                          color = discord.Color.pink())\n",
        "    await interaction.response.defer(ephemeral=True, thinking=False)\n",
        "\n",
        "    # await interaction.followup.send('*✭˚･ﾟ✧*･ﾟ*✭˚･ﾟ✧*･ﾟ* *✭˚･ﾟ✧*･ﾟ*✭˚･ﾟ✧*･ﾟ* *✭˚･ﾟ✧*･ﾟ*✭˚･ﾟ✧*･ﾟ*')\n",
        "\n",
        "    c = client.get_command('animation')\n",
        "    await c(interaction, 6)\n",
        "\n",
        "\n",
        "    if matches:\n",
        "      out = ''\n",
        "      # out += '*✭˚･ﾟ✧*･ﾟ*✭˚･ﾟ✧*･ﾟ* *✭˚･ﾟ✧*･ﾟ*✭˚･ﾟ✧*･ﾟ* *✭˚･ﾟ✧*･ﾟ*✭˚･ﾟ✧*･ﾟ*\\n'\n",
        "      for index, m in enumerate(matches):\n",
        "        out += f\"**Match {index+1}**\\nYour one of your best matches on the server is {m.global_name} with a compatibility of {per[index]}%\\nMeet your match {m.mention}\"\n",
        "        out += '\\n\\n'\n",
        "\n",
        "      embed.add_field(name='Matches 웃❤유', value=out)\n",
        "      embed.set_thumbnail(url='https://storage.googleapis.com/pod_public/1300/150289.jpg')\n",
        "      await interaction.followup.send(embed=embed)\n",
        "\n",
        "    else:\n",
        "      embed.add_field(name='Matches', value=\"You have no matches good matches, try agian later\")\n",
        "      await interaction.followup.send(embed=embed)\n",
        "\n",
        "\n",
        "\n",
        "\n",
        "\n",
        "  client.run()\n",
        "\n",
        "\n",
        "run()"
      ]
    },
    {
      "cell_type": "code",
      "execution_count": null,
      "metadata": {
        "id": "ygvI4fNS05su"
      },
      "outputs": [],
      "source": [
        "n = [1, 2, 3, 4]\n",
        "m = [1, 3, 3, 3]\n",
        "l = [4 ,4 ,4, 4]"
      ]
    },
    {
      "cell_type": "code",
      "execution_count": null,
      "metadata": {
        "colab": {
          "base_uri": "https://localhost:8080/"
        },
        "id": "akgcHFhg2ysC",
        "outputId": "34859e94-d7db-4a72-94f0-332a4e7ac558"
      },
      "outputs": [
        {
          "data": {
            "text/plain": [
              "[(4, (1, 1)), (4, (2, 3)), (4, (3, 3)), (4, (4, 3))]"
            ]
          },
          "execution_count": 90,
          "metadata": {},
          "output_type": "execute_result"
        }
      ],
      "source": [
        "list(zip(l, list(zip(n,m))))"
      ]
    },
    {
      "cell_type": "code",
      "execution_count": null,
      "metadata": {
        "id": "WEkK_yIG2zTH"
      },
      "outputs": [],
      "source": [
        "g = ['l:a', 'l:aaaa']"
      ]
    },
    {
      "cell_type": "code",
      "execution_count": null,
      "metadata": {
        "id": "CbCi1VNnIe9W"
      },
      "outputs": [],
      "source": [
        "g = [x.split('l:')[-1] for x in g]"
      ]
    },
    {
      "cell_type": "code",
      "execution_count": null,
      "metadata": {
        "id": "BrDCagpgIki3"
      },
      "outputs": [],
      "source": [
        "g = [0 for x in range(2)]"
      ]
    },
    {
      "cell_type": "code",
      "execution_count": null,
      "metadata": {
        "colab": {
          "base_uri": "https://localhost:8080/"
        },
        "id": "XhD0FR_DwJEO",
        "outputId": "284d8de1-459e-42c9-94ca-29670314e784"
      },
      "outputs": [
        {
          "data": {
            "text/plain": [
              "[0, 0]"
            ]
          },
          "execution_count": 115,
          "metadata": {},
          "output_type": "execute_result"
        }
      ],
      "source": [
        " python3 --version"
      ]
    }
  ],
  "metadata": {
    "colab": {
      "provenance": [],
      "authorship_tag": "ABX9TyNC0FRm4Nhhzsx8Orb8wbJN",
      "include_colab_link": true
    },
    "kernelspec": {
      "display_name": "Python 3",
      "name": "python3"
    },
    "language_info": {
      "name": "python"
    }
  },
  "nbformat": 4,
  "nbformat_minor": 0
}